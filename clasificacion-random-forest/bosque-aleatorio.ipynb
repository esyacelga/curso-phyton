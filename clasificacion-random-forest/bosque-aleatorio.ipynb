{
 "cells": [
  {
   "cell_type": "markdown",
   "metadata": {},
   "source": [
    "1. Importacion de datos\n"
   ]
  },
  {
   "cell_type": "code",
   "execution_count": 45,
   "metadata": {},
   "outputs": [
    {
     "name": "stdout",
     "output_type": "stream",
     "text": [
      "    edad  estudio  genero  tipo_trabajo  horas  ingreso\n",
      "60    26       10       1             0     52        1\n",
      "73    50       14       1             1     45        0\n",
      "27    21       10       1             0     25        0\n",
      "72    63       14       1             1     40        1\n",
      "2     34        8       0             0     40        0\n",
      "..   ...      ...     ...           ...    ...      ...\n",
      "8     68        9       1             1     25        0\n",
      "52    35        9       1             1     60        0\n",
      "22    59        9       1             1     40        0\n",
      "61    43       10       0             0     35        0\n",
      "8     68        9       1             1     25        0\n",
      "\n",
      "[67 rows x 6 columns]\n"
     ]
    }
   ],
   "source": [
    "import pandas as pd \n",
    "personas = pd.read_csv(\"./ingresos.csv\")\n",
    "\n",
    "print (personas.sample(frac=2/3, replace=True))"
   ]
  },
  {
   "cell_type": "markdown",
   "metadata": {},
   "source": [
    "Aleatoridad\n",
    "Seleccion de las caracteristicas para las divisiones"
   ]
  },
  {
   "cell_type": "code",
   "execution_count": 55,
   "metadata": {},
   "outputs": [
    {
     "name": "stdout",
     "output_type": "stream",
     "text": [
      "Index(['edad', 'estudio', 'genero', 'tipo_trabajo', 'horas'], dtype='object') \n",
      "\n",
      "    genero  estudio  edad\n",
      "0        0        9    27\n",
      "1        0        9    30\n",
      "2        0        8    34\n",
      "3        0       13    26\n",
      "4        1        4    23\n",
      "..     ...      ...   ...\n",
      "95       1       13    32\n",
      "96       0       10    20\n",
      "97       0        3    46\n",
      "98       1        9    37\n",
      "99       1        9    47\n",
      "\n",
      "[100 rows x 3 columns]\n"
     ]
    }
   ],
   "source": [
    "from random import sample\n",
    "print(personas.columns[:-1], \"\\n\")\n",
    "personas_filtradas = personas.columns[:-1]\n",
    "ingreso_columna = personas['ingreso']\n",
    "#print(sample(set(personas.columns[:-1]), 3))\n",
    "#print(personas_filtradas.sample(n=3, axis=1))}\n",
    "print(personas.drop(columns=['ingreso']).sample(n=3, axis=1))\n"
   ]
  },
  {
   "cell_type": "markdown",
   "metadata": {},
   "source": [
    "Creación de bosque aleatorio"
   ]
  },
  {
   "cell_type": "code",
   "execution_count": 61,
   "metadata": {},
   "outputs": [],
   "source": [
    "from sklearn.ensemble import RandomForestClassifier\n",
    "bosque = RandomForestClassifier(n_estimators = 100, criterion=\"gini\",max_features=\"sqrt\",\n",
    "                                bootstrap=True, max_samples = 2/3, oob_score = True) \n",
    "bosque.fit(personas[personas.colums[:-1]], personas[\"ingrerso\"])                                "
   ]
  }
 ],
 "metadata": {
  "kernelspec": {
   "display_name": "current-py",
   "language": "python",
   "name": "python3"
  },
  "language_info": {
   "codemirror_mode": {
    "name": "ipython",
    "version": 3
   },
   "file_extension": ".py",
   "mimetype": "text/x-python",
   "name": "python",
   "nbconvert_exporter": "python",
   "pygments_lexer": "ipython3",
   "version": "3.11.5"
  }
 },
 "nbformat": 4,
 "nbformat_minor": 2
}
